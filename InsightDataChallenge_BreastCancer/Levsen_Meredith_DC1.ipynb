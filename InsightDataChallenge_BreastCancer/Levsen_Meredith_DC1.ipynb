{
 "cells": [
  {
   "cell_type": "markdown",
   "metadata": {},
   "source": [
    "# Insight 18B Data Challenge 1\n",
    "\n",
    "__Notes about this assignment:__  \n",
    "\n",
    "*Time limit = 4 hours*  \n",
    "\n",
    "**Goal: Develop a model that predicts whether a biopsied breast cell is benign (not harmful) or malignant (cancerous), given a set of attributes about the cell.**  \n",
    "\n",
    "Some important questions to think about are:  \n",
    "* How can you best explore the data?  \n",
    "* Why did you select your particular model?  \n",
    "* How did you validate your model?  \n",
    "* What insights can you derive from your results?  \n",
    "\n",
    "**Variables in Dataset**: \n",
    "* id number  \n",
    "* Clump Thickness: 1 - 10  \n",
    "* Uniformity of Cell Size: 1 - 10  \n",
    "* Uniformity of Cell Shape: 1 - 10  \n",
    "* Marginal Adhesion: 1 - 10  \n",
    "* Single Epithelial Cell Size: 1 - 10  \n",
    "* Bare Nuclei: 1 - 10  \n",
    "* Bland Chromatin: 1 - 10  \n",
    "* Normal Nucleoli: 1 - 10  \n",
    "* Mitoses: 1 - 10  \n",
    "* Class: (2 for benign, 4 for malignant)"
   ]
  },
  {
   "cell_type": "code",
   "execution_count": 20,
   "metadata": {},
   "outputs": [],
   "source": [
    "# Ignore warnings\n",
    "import warnings\n",
    "warnings.filterwarnings('ignore')\n",
    "\n",
    "# data analysis and wrangling\n",
    "import pandas as pd\n",
    "import numpy as np\n",
    "import random as rnd\n",
    "\n",
    "# visualization\n",
    "import seaborn as sns\n",
    "#import plotly.plotly as py\n",
    "import matplotlib.pyplot as plt\n",
    "%matplotlib inline\n",
    "\n",
    "# machine learning\n",
    "from sklearn.cross_validation import train_test_split , StratifiedKFold"
   ]
  },
  {
   "cell_type": "code",
   "execution_count": 21,
   "metadata": {},
   "outputs": [
    {
     "data": {
      "text/html": [
       "<div>\n",
       "<style scoped>\n",
       "    .dataframe tbody tr th:only-of-type {\n",
       "        vertical-align: middle;\n",
       "    }\n",
       "\n",
       "    .dataframe tbody tr th {\n",
       "        vertical-align: top;\n",
       "    }\n",
       "\n",
       "    .dataframe thead th {\n",
       "        text-align: right;\n",
       "    }\n",
       "</style>\n",
       "<table border=\"1\" class=\"dataframe\">\n",
       "  <thead>\n",
       "    <tr style=\"text-align: right;\">\n",
       "      <th></th>\n",
       "      <th>id</th>\n",
       "      <th>thickness</th>\n",
       "      <th>uni_size</th>\n",
       "      <th>uni_shape</th>\n",
       "      <th>adhesion</th>\n",
       "      <th>epi_size</th>\n",
       "      <th>bare_nuc</th>\n",
       "      <th>bland_chrom</th>\n",
       "      <th>norm_nuc</th>\n",
       "      <th>mitoses</th>\n",
       "      <th>class</th>\n",
       "    </tr>\n",
       "  </thead>\n",
       "  <tbody>\n",
       "    <tr>\n",
       "      <th>0</th>\n",
       "      <td>1000025</td>\n",
       "      <td>5</td>\n",
       "      <td>1</td>\n",
       "      <td>1</td>\n",
       "      <td>1</td>\n",
       "      <td>2</td>\n",
       "      <td>1</td>\n",
       "      <td>3</td>\n",
       "      <td>1</td>\n",
       "      <td>1</td>\n",
       "      <td>2</td>\n",
       "    </tr>\n",
       "    <tr>\n",
       "      <th>1</th>\n",
       "      <td>1002945</td>\n",
       "      <td>5</td>\n",
       "      <td>4</td>\n",
       "      <td>4</td>\n",
       "      <td>5</td>\n",
       "      <td>7</td>\n",
       "      <td>10</td>\n",
       "      <td>3</td>\n",
       "      <td>2</td>\n",
       "      <td>1</td>\n",
       "      <td>2</td>\n",
       "    </tr>\n",
       "    <tr>\n",
       "      <th>2</th>\n",
       "      <td>1015425</td>\n",
       "      <td>3</td>\n",
       "      <td>1</td>\n",
       "      <td>1</td>\n",
       "      <td>1</td>\n",
       "      <td>2</td>\n",
       "      <td>2</td>\n",
       "      <td>3</td>\n",
       "      <td>1</td>\n",
       "      <td>1</td>\n",
       "      <td>2</td>\n",
       "    </tr>\n",
       "    <tr>\n",
       "      <th>3</th>\n",
       "      <td>1016277</td>\n",
       "      <td>6</td>\n",
       "      <td>8</td>\n",
       "      <td>8</td>\n",
       "      <td>1</td>\n",
       "      <td>3</td>\n",
       "      <td>4</td>\n",
       "      <td>3</td>\n",
       "      <td>7</td>\n",
       "      <td>1</td>\n",
       "      <td>2</td>\n",
       "    </tr>\n",
       "    <tr>\n",
       "      <th>4</th>\n",
       "      <td>1017023</td>\n",
       "      <td>4</td>\n",
       "      <td>1</td>\n",
       "      <td>1</td>\n",
       "      <td>3</td>\n",
       "      <td>2</td>\n",
       "      <td>1</td>\n",
       "      <td>3</td>\n",
       "      <td>1</td>\n",
       "      <td>1</td>\n",
       "      <td>2</td>\n",
       "    </tr>\n",
       "  </tbody>\n",
       "</table>\n",
       "</div>"
      ],
      "text/plain": [
       "        id  thickness  uni_size  uni_shape  adhesion  epi_size bare_nuc  \\\n",
       "0  1000025          5         1          1         1         2        1   \n",
       "1  1002945          5         4          4         5         7       10   \n",
       "2  1015425          3         1          1         1         2        2   \n",
       "3  1016277          6         8          8         1         3        4   \n",
       "4  1017023          4         1          1         3         2        1   \n",
       "\n",
       "   bland_chrom  norm_nuc  mitoses  class  \n",
       "0            3         1        1      2  \n",
       "1            3         2        1      2  \n",
       "2            3         1        1      2  \n",
       "3            3         7        1      2  \n",
       "4            3         1        1      2  "
      ]
     },
     "execution_count": 21,
     "metadata": {},
     "output_type": "execute_result"
    }
   ],
   "source": [
    "# Import data and add column names: \n",
    "# id number\n",
    "# Clump Thickness: 1 - 10\n",
    "# Uniformity of Cell Size: 1 - 10\n",
    "# Uniformity of Cell Shape: 1 - 10\n",
    "# Marginal Adhesion: 1 - 10\n",
    "# Single Epithelial Cell Size: 1 - 10\n",
    "# Bare Nuclei: 1 - 10\n",
    "# Bland Chromatin: 1 - 10\n",
    "# Normal Nucleoli: 1 - 10\n",
    "# Mitoses: 1 - 10\n",
    "# Class: (2 for benign, 4 for malignant)\n",
    "\n",
    "df_raw = pd.read_csv('breast-cancer-wisconsin.csv', \n",
    "                     names = ['id', 'thickness', 'uni_size', 'uni_shape',\n",
    "                              'adhesion', 'epi_size', 'bare_nuc', \n",
    "                              'bland_chrom', 'norm_nuc', 'mitoses', \n",
    "                              'class'])\n",
    "df_raw.head()"
   ]
  },
  {
   "cell_type": "markdown",
   "metadata": {},
   "source": [
    "## Inspect and explore variables"
   ]
  },
  {
   "cell_type": "code",
   "execution_count": 5,
   "metadata": {},
   "outputs": [
    {
     "name": "stdout",
     "output_type": "stream",
     "text": [
      "(699, 11)\n"
     ]
    },
    {
     "data": {
      "text/html": [
       "<div>\n",
       "<style scoped>\n",
       "    .dataframe tbody tr th:only-of-type {\n",
       "        vertical-align: middle;\n",
       "    }\n",
       "\n",
       "    .dataframe tbody tr th {\n",
       "        vertical-align: top;\n",
       "    }\n",
       "\n",
       "    .dataframe thead th {\n",
       "        text-align: right;\n",
       "    }\n",
       "</style>\n",
       "<table border=\"1\" class=\"dataframe\">\n",
       "  <thead>\n",
       "    <tr style=\"text-align: right;\">\n",
       "      <th></th>\n",
       "      <th>id</th>\n",
       "      <th>thickness</th>\n",
       "      <th>uni_size</th>\n",
       "      <th>uni_shape</th>\n",
       "      <th>adhesion</th>\n",
       "      <th>epi_size</th>\n",
       "      <th>bland_chrom</th>\n",
       "      <th>norm_nuc</th>\n",
       "      <th>mitoses</th>\n",
       "      <th>class</th>\n",
       "    </tr>\n",
       "  </thead>\n",
       "  <tbody>\n",
       "    <tr>\n",
       "      <th>count</th>\n",
       "      <td>6.990000e+02</td>\n",
       "      <td>699.000000</td>\n",
       "      <td>699.000000</td>\n",
       "      <td>699.000000</td>\n",
       "      <td>699.000000</td>\n",
       "      <td>699.000000</td>\n",
       "      <td>699.000000</td>\n",
       "      <td>699.000000</td>\n",
       "      <td>699.000000</td>\n",
       "      <td>699.000000</td>\n",
       "    </tr>\n",
       "    <tr>\n",
       "      <th>mean</th>\n",
       "      <td>1.071704e+06</td>\n",
       "      <td>4.417740</td>\n",
       "      <td>3.134478</td>\n",
       "      <td>3.207439</td>\n",
       "      <td>2.806867</td>\n",
       "      <td>3.216023</td>\n",
       "      <td>3.437768</td>\n",
       "      <td>2.866953</td>\n",
       "      <td>1.589413</td>\n",
       "      <td>2.689557</td>\n",
       "    </tr>\n",
       "    <tr>\n",
       "      <th>std</th>\n",
       "      <td>6.170957e+05</td>\n",
       "      <td>2.815741</td>\n",
       "      <td>3.051459</td>\n",
       "      <td>2.971913</td>\n",
       "      <td>2.855379</td>\n",
       "      <td>2.214300</td>\n",
       "      <td>2.438364</td>\n",
       "      <td>3.053634</td>\n",
       "      <td>1.715078</td>\n",
       "      <td>0.951273</td>\n",
       "    </tr>\n",
       "    <tr>\n",
       "      <th>min</th>\n",
       "      <td>6.163400e+04</td>\n",
       "      <td>1.000000</td>\n",
       "      <td>1.000000</td>\n",
       "      <td>1.000000</td>\n",
       "      <td>1.000000</td>\n",
       "      <td>1.000000</td>\n",
       "      <td>1.000000</td>\n",
       "      <td>1.000000</td>\n",
       "      <td>1.000000</td>\n",
       "      <td>2.000000</td>\n",
       "    </tr>\n",
       "    <tr>\n",
       "      <th>25%</th>\n",
       "      <td>8.706885e+05</td>\n",
       "      <td>2.000000</td>\n",
       "      <td>1.000000</td>\n",
       "      <td>1.000000</td>\n",
       "      <td>1.000000</td>\n",
       "      <td>2.000000</td>\n",
       "      <td>2.000000</td>\n",
       "      <td>1.000000</td>\n",
       "      <td>1.000000</td>\n",
       "      <td>2.000000</td>\n",
       "    </tr>\n",
       "    <tr>\n",
       "      <th>50%</th>\n",
       "      <td>1.171710e+06</td>\n",
       "      <td>4.000000</td>\n",
       "      <td>1.000000</td>\n",
       "      <td>1.000000</td>\n",
       "      <td>1.000000</td>\n",
       "      <td>2.000000</td>\n",
       "      <td>3.000000</td>\n",
       "      <td>1.000000</td>\n",
       "      <td>1.000000</td>\n",
       "      <td>2.000000</td>\n",
       "    </tr>\n",
       "    <tr>\n",
       "      <th>75%</th>\n",
       "      <td>1.238298e+06</td>\n",
       "      <td>6.000000</td>\n",
       "      <td>5.000000</td>\n",
       "      <td>5.000000</td>\n",
       "      <td>4.000000</td>\n",
       "      <td>4.000000</td>\n",
       "      <td>5.000000</td>\n",
       "      <td>4.000000</td>\n",
       "      <td>1.000000</td>\n",
       "      <td>4.000000</td>\n",
       "    </tr>\n",
       "    <tr>\n",
       "      <th>max</th>\n",
       "      <td>1.345435e+07</td>\n",
       "      <td>10.000000</td>\n",
       "      <td>10.000000</td>\n",
       "      <td>10.000000</td>\n",
       "      <td>10.000000</td>\n",
       "      <td>10.000000</td>\n",
       "      <td>10.000000</td>\n",
       "      <td>10.000000</td>\n",
       "      <td>10.000000</td>\n",
       "      <td>4.000000</td>\n",
       "    </tr>\n",
       "  </tbody>\n",
       "</table>\n",
       "</div>"
      ],
      "text/plain": [
       "                 id   thickness    uni_size   uni_shape    adhesion  \\\n",
       "count  6.990000e+02  699.000000  699.000000  699.000000  699.000000   \n",
       "mean   1.071704e+06    4.417740    3.134478    3.207439    2.806867   \n",
       "std    6.170957e+05    2.815741    3.051459    2.971913    2.855379   \n",
       "min    6.163400e+04    1.000000    1.000000    1.000000    1.000000   \n",
       "25%    8.706885e+05    2.000000    1.000000    1.000000    1.000000   \n",
       "50%    1.171710e+06    4.000000    1.000000    1.000000    1.000000   \n",
       "75%    1.238298e+06    6.000000    5.000000    5.000000    4.000000   \n",
       "max    1.345435e+07   10.000000   10.000000   10.000000   10.000000   \n",
       "\n",
       "         epi_size  bland_chrom    norm_nuc     mitoses       class  \n",
       "count  699.000000   699.000000  699.000000  699.000000  699.000000  \n",
       "mean     3.216023     3.437768    2.866953    1.589413    2.689557  \n",
       "std      2.214300     2.438364    3.053634    1.715078    0.951273  \n",
       "min      1.000000     1.000000    1.000000    1.000000    2.000000  \n",
       "25%      2.000000     2.000000    1.000000    1.000000    2.000000  \n",
       "50%      2.000000     3.000000    1.000000    1.000000    2.000000  \n",
       "75%      4.000000     5.000000    4.000000    1.000000    4.000000  \n",
       "max     10.000000    10.000000   10.000000   10.000000    4.000000  "
      ]
     },
     "execution_count": 5,
     "metadata": {},
     "output_type": "execute_result"
    }
   ],
   "source": [
    "print(df_raw.shape)\n",
    "df_raw.describe()"
   ]
  },
  {
   "cell_type": "code",
   "execution_count": 6,
   "metadata": {},
   "outputs": [
    {
     "data": {
      "text/html": [
       "<div>\n",
       "<style scoped>\n",
       "    .dataframe tbody tr th:only-of-type {\n",
       "        vertical-align: middle;\n",
       "    }\n",
       "\n",
       "    .dataframe tbody tr th {\n",
       "        vertical-align: top;\n",
       "    }\n",
       "\n",
       "    .dataframe thead th {\n",
       "        text-align: right;\n",
       "    }\n",
       "</style>\n",
       "<table border=\"1\" class=\"dataframe\">\n",
       "  <thead>\n",
       "    <tr style=\"text-align: right;\">\n",
       "      <th></th>\n",
       "      <th>bare_nuc</th>\n",
       "    </tr>\n",
       "  </thead>\n",
       "  <tbody>\n",
       "    <tr>\n",
       "      <th>count</th>\n",
       "      <td>699</td>\n",
       "    </tr>\n",
       "    <tr>\n",
       "      <th>unique</th>\n",
       "      <td>11</td>\n",
       "    </tr>\n",
       "    <tr>\n",
       "      <th>top</th>\n",
       "      <td>1</td>\n",
       "    </tr>\n",
       "    <tr>\n",
       "      <th>freq</th>\n",
       "      <td>402</td>\n",
       "    </tr>\n",
       "  </tbody>\n",
       "</table>\n",
       "</div>"
      ],
      "text/plain": [
       "       bare_nuc\n",
       "count       699\n",
       "unique       11\n",
       "top           1\n",
       "freq        402"
      ]
     },
     "execution_count": 6,
     "metadata": {},
     "output_type": "execute_result"
    }
   ],
   "source": [
    "df_raw.describe(include='O')"
   ]
  },
  {
   "cell_type": "code",
   "execution_count": 22,
   "metadata": {
    "scrolled": true
   },
   "outputs": [
    {
     "data": {
      "text/plain": [
       "id              int64\n",
       "thickness       int64\n",
       "uni_size        int64\n",
       "uni_shape       int64\n",
       "adhesion        int64\n",
       "epi_size        int64\n",
       "bare_nuc       object\n",
       "bland_chrom     int64\n",
       "norm_nuc        int64\n",
       "mitoses         int64\n",
       "class           int64\n",
       "dtype: object"
      ]
     },
     "execution_count": 22,
     "metadata": {},
     "output_type": "execute_result"
    }
   ],
   "source": [
    "# MAke copy of df\n",
    "df = df_raw\n",
    "df.dtypes"
   ]
  },
  {
   "cell_type": "markdown",
   "metadata": {},
   "source": [
    "## Fix some of the variables  \n",
    "* Recode '?' to nan for **bare_nuc** variable.  \n",
    "* Recode **class** variable to be 1s and 0s."
   ]
  },
  {
   "cell_type": "code",
   "execution_count": 23,
   "metadata": {},
   "outputs": [
    {
     "data": {
      "text/plain": [
       "array(['1', '10', '2', '4', '3', '9', '7', '?', '5', '8', '6'],\n",
       "      dtype=object)"
      ]
     },
     "execution_count": 23,
     "metadata": {},
     "output_type": "execute_result"
    }
   ],
   "source": [
    "df['bare_nuc'].unique()"
   ]
  },
  {
   "cell_type": "code",
   "execution_count": 24,
   "metadata": {
    "scrolled": false
   },
   "outputs": [
    {
     "name": "stdout",
     "output_type": "stream",
     "text": [
      "[ 1. 10.  2.  4.  3.  9.  7. nan  5.  8.  6.]\n"
     ]
    },
    {
     "data": {
      "text/html": [
       "<div>\n",
       "<style scoped>\n",
       "    .dataframe tbody tr th:only-of-type {\n",
       "        vertical-align: middle;\n",
       "    }\n",
       "\n",
       "    .dataframe tbody tr th {\n",
       "        vertical-align: top;\n",
       "    }\n",
       "\n",
       "    .dataframe thead th {\n",
       "        text-align: right;\n",
       "    }\n",
       "</style>\n",
       "<table border=\"1\" class=\"dataframe\">\n",
       "  <thead>\n",
       "    <tr style=\"text-align: right;\">\n",
       "      <th></th>\n",
       "      <th>id</th>\n",
       "      <th>thickness</th>\n",
       "      <th>uni_size</th>\n",
       "      <th>uni_shape</th>\n",
       "      <th>adhesion</th>\n",
       "      <th>epi_size</th>\n",
       "      <th>bare_nuc</th>\n",
       "      <th>bland_chrom</th>\n",
       "      <th>norm_nuc</th>\n",
       "      <th>mitoses</th>\n",
       "      <th>class</th>\n",
       "    </tr>\n",
       "  </thead>\n",
       "  <tbody>\n",
       "    <tr>\n",
       "      <th>count</th>\n",
       "      <td>6.990000e+02</td>\n",
       "      <td>699.000000</td>\n",
       "      <td>699.000000</td>\n",
       "      <td>699.000000</td>\n",
       "      <td>699.000000</td>\n",
       "      <td>699.000000</td>\n",
       "      <td>683.000000</td>\n",
       "      <td>699.000000</td>\n",
       "      <td>699.000000</td>\n",
       "      <td>699.000000</td>\n",
       "      <td>699.000000</td>\n",
       "    </tr>\n",
       "    <tr>\n",
       "      <th>mean</th>\n",
       "      <td>1.071704e+06</td>\n",
       "      <td>4.417740</td>\n",
       "      <td>3.134478</td>\n",
       "      <td>3.207439</td>\n",
       "      <td>2.806867</td>\n",
       "      <td>3.216023</td>\n",
       "      <td>3.544656</td>\n",
       "      <td>3.437768</td>\n",
       "      <td>2.866953</td>\n",
       "      <td>1.589413</td>\n",
       "      <td>2.689557</td>\n",
       "    </tr>\n",
       "    <tr>\n",
       "      <th>std</th>\n",
       "      <td>6.170957e+05</td>\n",
       "      <td>2.815741</td>\n",
       "      <td>3.051459</td>\n",
       "      <td>2.971913</td>\n",
       "      <td>2.855379</td>\n",
       "      <td>2.214300</td>\n",
       "      <td>3.643857</td>\n",
       "      <td>2.438364</td>\n",
       "      <td>3.053634</td>\n",
       "      <td>1.715078</td>\n",
       "      <td>0.951273</td>\n",
       "    </tr>\n",
       "    <tr>\n",
       "      <th>min</th>\n",
       "      <td>6.163400e+04</td>\n",
       "      <td>1.000000</td>\n",
       "      <td>1.000000</td>\n",
       "      <td>1.000000</td>\n",
       "      <td>1.000000</td>\n",
       "      <td>1.000000</td>\n",
       "      <td>1.000000</td>\n",
       "      <td>1.000000</td>\n",
       "      <td>1.000000</td>\n",
       "      <td>1.000000</td>\n",
       "      <td>2.000000</td>\n",
       "    </tr>\n",
       "    <tr>\n",
       "      <th>25%</th>\n",
       "      <td>8.706885e+05</td>\n",
       "      <td>2.000000</td>\n",
       "      <td>1.000000</td>\n",
       "      <td>1.000000</td>\n",
       "      <td>1.000000</td>\n",
       "      <td>2.000000</td>\n",
       "      <td>1.000000</td>\n",
       "      <td>2.000000</td>\n",
       "      <td>1.000000</td>\n",
       "      <td>1.000000</td>\n",
       "      <td>2.000000</td>\n",
       "    </tr>\n",
       "    <tr>\n",
       "      <th>50%</th>\n",
       "      <td>1.171710e+06</td>\n",
       "      <td>4.000000</td>\n",
       "      <td>1.000000</td>\n",
       "      <td>1.000000</td>\n",
       "      <td>1.000000</td>\n",
       "      <td>2.000000</td>\n",
       "      <td>1.000000</td>\n",
       "      <td>3.000000</td>\n",
       "      <td>1.000000</td>\n",
       "      <td>1.000000</td>\n",
       "      <td>2.000000</td>\n",
       "    </tr>\n",
       "    <tr>\n",
       "      <th>75%</th>\n",
       "      <td>1.238298e+06</td>\n",
       "      <td>6.000000</td>\n",
       "      <td>5.000000</td>\n",
       "      <td>5.000000</td>\n",
       "      <td>4.000000</td>\n",
       "      <td>4.000000</td>\n",
       "      <td>6.000000</td>\n",
       "      <td>5.000000</td>\n",
       "      <td>4.000000</td>\n",
       "      <td>1.000000</td>\n",
       "      <td>4.000000</td>\n",
       "    </tr>\n",
       "    <tr>\n",
       "      <th>max</th>\n",
       "      <td>1.345435e+07</td>\n",
       "      <td>10.000000</td>\n",
       "      <td>10.000000</td>\n",
       "      <td>10.000000</td>\n",
       "      <td>10.000000</td>\n",
       "      <td>10.000000</td>\n",
       "      <td>10.000000</td>\n",
       "      <td>10.000000</td>\n",
       "      <td>10.000000</td>\n",
       "      <td>10.000000</td>\n",
       "      <td>4.000000</td>\n",
       "    </tr>\n",
       "  </tbody>\n",
       "</table>\n",
       "</div>"
      ],
      "text/plain": [
       "                 id   thickness    uni_size   uni_shape    adhesion  \\\n",
       "count  6.990000e+02  699.000000  699.000000  699.000000  699.000000   \n",
       "mean   1.071704e+06    4.417740    3.134478    3.207439    2.806867   \n",
       "std    6.170957e+05    2.815741    3.051459    2.971913    2.855379   \n",
       "min    6.163400e+04    1.000000    1.000000    1.000000    1.000000   \n",
       "25%    8.706885e+05    2.000000    1.000000    1.000000    1.000000   \n",
       "50%    1.171710e+06    4.000000    1.000000    1.000000    1.000000   \n",
       "75%    1.238298e+06    6.000000    5.000000    5.000000    4.000000   \n",
       "max    1.345435e+07   10.000000   10.000000   10.000000   10.000000   \n",
       "\n",
       "         epi_size    bare_nuc  bland_chrom    norm_nuc     mitoses       class  \n",
       "count  699.000000  683.000000   699.000000  699.000000  699.000000  699.000000  \n",
       "mean     3.216023    3.544656     3.437768    2.866953    1.589413    2.689557  \n",
       "std      2.214300    3.643857     2.438364    3.053634    1.715078    0.951273  \n",
       "min      1.000000    1.000000     1.000000    1.000000    1.000000    2.000000  \n",
       "25%      2.000000    1.000000     2.000000    1.000000    1.000000    2.000000  \n",
       "50%      2.000000    1.000000     3.000000    1.000000    1.000000    2.000000  \n",
       "75%      4.000000    6.000000     5.000000    4.000000    1.000000    4.000000  \n",
       "max     10.000000   10.000000    10.000000   10.000000   10.000000    4.000000  "
      ]
     },
     "execution_count": 24,
     "metadata": {},
     "output_type": "execute_result"
    }
   ],
   "source": [
    "# There appears to be a question mark. Coerce to float so\n",
    "# the question mark becomes NaN.\n",
    "df[['bare_nuc']] = df[['bare_nuc']].apply(pd.to_numeric, errors='coerce')\n",
    "print(df['bare_nuc'].unique())\n",
    "df.describe()"
   ]
  },
  {
   "cell_type": "code",
   "execution_count": 25,
   "metadata": {},
   "outputs": [],
   "source": [
    "#### Recode class as 0 (benign) and 1 (malignant): (because that makes\n",
    "# more sense and also intercept will make sense if I decide to go the \n",
    "# logistic regression route)\n",
    "df.loc[df['class'] < 3, 'class'] = 0\n",
    "df.loc[df['class'] > 3, 'class'] = 1"
   ]
  },
  {
   "cell_type": "markdown",
   "metadata": {},
   "source": [
    "## Explore predictor (X) variables\n",
    "It is always good practice to visualize your variables before running any models. A histogram plot will help me get a sense for the distribution of the variables.  "
   ]
  },
  {
   "cell_type": "code",
   "execution_count": 26,
   "metadata": {},
   "outputs": [],
   "source": [
    "def plot_histograms( df , variables , n_rows , n_cols ):\n",
    "    '''\n",
    "    Plot histogram of specified variables in grid.\n",
    "    '''\n",
    "    fig = plt.figure( figsize = ( 16 , 24 ) )\n",
    "    for i, var_name in enumerate( variables ):\n",
    "        ax=fig.add_subplot( n_rows , n_cols , i+1 )\n",
    "        df[ var_name ].hist( bins=10 , ax=ax )\n",
    "        ax.set_title( str( var_name ) )\n",
    "        ax.set_xticklabels( [] , visible=False )\n",
    "        ax.set_yticklabels( [] , visible=False )\n",
    "    fig.tight_layout()  # Improves appearance a bit.\n",
    "    plt.show()"
   ]
  },
  {
   "cell_type": "code",
   "execution_count": 11,
   "metadata": {},
   "outputs": [
    {
     "data": {
      "image/png": "[encoded data removed]",
      "text/plain": [
       "<matplotlib.figure.Figure at 0x1a0dcf3e10>"
      ]
     },
     "metadata": {},
     "output_type": "display_data"
    }
   ],
   "source": [
    "plot_histograms(df, ['thickness', 'uni_size', 'uni_shape',\n",
    "                        'adhesion', 'epi_size', 'bare_nuc',\n",
    "                    'bland_chrom', 'norm_nuc', 'mitoses', \n",
    "                    'class'], 4, 3)"
   ]
  },
  {
   "cell_type": "code",
   "execution_count": 12,
   "metadata": {},
   "outputs": [
    {
     "data": {
      "text/plain": [
       "0    0.655222\n",
       "1    0.344778\n",
       "Name: class, dtype: float64"
      ]
     },
     "execution_count": 12,
     "metadata": {},
     "output_type": "execute_result"
    }
   ],
   "source": [
    "### What percentage of observations belong to classes 1 and 0?\n",
    "df['class'].value_counts(normalize=True)"
   ]
  },
  {
   "cell_type": "markdown",
   "metadata": {},
   "source": [
    "#### Some problems with the data thus far: \n",
    "* Almost all variables are skewed.  \n",
    "* Class imbalance is not severe for `class`, although it might be something to consider when weighing different model performance metrics later on.    \n",
    "* `bare_nuc` variable is missing 16 observations. (This is such a small percentage of the total number of observations, that it doesn't really matter.)   \n",
    "\n",
    "## Handling Missing Data\n",
    "As stated above, the `bare_nuc` variable is missing 16 data points. I decided to **replace missing values** with with **mode** `bare_nuc` value (i.e., 1 or 2) - this variable is so skewed that using the mean or median is not ideal. There are fancier ways of imputing missing values; however, with only 16 data points missing, I decided to keep it basic. "
   ]
  },
  {
   "cell_type": "code",
   "execution_count": 27,
   "metadata": {},
   "outputs": [],
   "source": [
    "# Impute missing bare_nuc values: set missing to mode\n",
    "from statistics import mode\n",
    "df['bare_nuc'] = df['bare_nuc'].fillna(mode(df['bare_nuc']))"
   ]
  },
  {
   "cell_type": "markdown",
   "metadata": {},
   "source": [
    "## Split Data into Test and Training Datasets:\n",
    "**Training-Test Split**: 80% Training, 20% Test"
   ]
  },
  {
   "cell_type": "code",
   "execution_count": 28,
   "metadata": {},
   "outputs": [
    {
     "name": "stdout",
     "output_type": "stream",
     "text": [
      "(559, 11) (140, 11) (699, 11)\n"
     ]
    }
   ],
   "source": [
    "# Create training and testing datasets\n",
    "# (Note: can feed it multiple datasets at once as long as they all have same number of rows)\n",
    "# (specifying random_state ensures that you'll be able to recreate the same test set each time you rerun code)\n",
    "df_train, df_test = train_test_split(df, \n",
    "                                     test_size = 0.2,\n",
    "                                     random_state=156)\n",
    "\n",
    "### Make combined dataset to facilitate applying variable changes to both datasets\n",
    "df_full = df_train.append(df_test, ignore_index = True) \n",
    "#df_train = df_full[:(len(data_split_train))] # Training data set\n",
    "\n",
    "print(df_train.shape, df_test.shape, df_full.shape)\n"
   ]
  },
  {
   "cell_type": "markdown",
   "metadata": {},
   "source": [
    "## Return to Variable Exploration\n",
    "Look at the correlations among the variables."
   ]
  },
  {
   "cell_type": "code",
   "execution_count": 10,
   "metadata": {},
   "outputs": [],
   "source": [
    "import seaborn as sns"
   ]
  },
  {
   "cell_type": "code",
   "execution_count": 16,
   "metadata": {},
   "outputs": [
    {
     "data": {
      "text/plain": [
       "<matplotlib.axes._subplots.AxesSubplot at 0x1a17e7a8d0>"
      ]
     },
     "execution_count": 16,
     "metadata": {},
     "output_type": "execute_result"
    },
    {
     "data": {
      "image/png": "[encoded data removed]",
      "text/plain": [
       "<matplotlib.figure.Figure at 0x1a17e75eb8>"
      ]
     },
     "metadata": {},
     "output_type": "display_data"
    }
   ],
   "source": [
    "ax = plt.subplots( figsize =(12, 10) ) # change plot size\n",
    "sns.heatmap(df_train.corr(), # correlation matrix of all vars in df_train\n",
    "           annot=True, # add labels to matrix\n",
    "           cmap = sns.diverging_palette(240, # change colors to blue and red\n",
    "                                        10, \n",
    "                                        as_cmap=True),\n",
    "            annot_kws = { 'fontsize' : 12 } # font size\n",
    "           )"
   ]
  },
  {
   "cell_type": "markdown",
   "metadata": {},
   "source": [
    "**Notes about Correlations:**  \n",
    "\n",
    "**Multicollinearity** seems to be fairly prevalent in this dataset. e.g., `uni_shape` and `uni_size` are correlated at .9. Typically, high multicollinearity among features in a logistic regression can result in the model assigning unreliable beta-weights (or importances) to features. However, the goal here is only to predict the presence of cancer based on the properties of the cell - we don't actually need to know which cell properties are the most important predictors. Thus, a **logistic regression** model is a viable option, given that we only want to accurately predict the presence of cancer.  \n",
    "\n",
    "\n",
    "### Data Visualization\n",
    "I chose to plot a few of the variables that had divergent distributions and that aren't super highly correlated.   \n",
    "**Conclusion:** From these plots, we can tell that there is a fairly large effect size (i.e., some of the variables seem to be highly predictive of whether or not there is cancer or not). "
   ]
  },
  {
   "cell_type": "code",
   "execution_count": 27,
   "metadata": {},
   "outputs": [],
   "source": [
    "def plot_kde_distribution( df , var , target , **kwargs ):\n",
    "    '''\n",
    "    This is a very general plotting function that makes kde distribution\n",
    "        plots for each level of target.\n",
    "    var = x-axis distribution variable\n",
    "    target = categorical levels to plot seperate (overlayed) distributions.\n",
    "    '''\n",
    "    row = kwargs.get( 'row' , None )\n",
    "    col = kwargs.get( 'col' , None )\n",
    "    facet = sns.FacetGrid( df , \n",
    "                          hue=target , \n",
    "                          aspect=4 , # aspect ratio of plot\n",
    "                          row = row , \n",
    "                          col = col )\n",
    "    facet.map( sns.kdeplot , var , shade= True ) \n",
    "        # kdeplot = kernel density estimate\n",
    "    facet.set(xlim = (df[var].min(), df[var].max()))\n",
    "    facet.add_legend()"
   ]
  },
  {
   "cell_type": "code",
   "execution_count": 1,
   "metadata": {},
   "outputs": [],
   "source": [
    "def plot_histogram( df , x_var , class_var ):\n",
    "    '''\n",
    "    Plot histogram distribution across VAR at each level of TARGET.\n",
    "    '''\n",
    "    for i in df[class_var].unique(): \n",
    "        sns.distplot(df.loc[df[class_var] == i][x_var], kde=False)\n",
    "    plt.show()"
   ]
  },
  {
   "cell_type": "code",
   "execution_count": 18,
   "metadata": {},
   "outputs": [
    {
     "data": {
      "image/png": "[encoded data removed]",
      "text/plain": [
       "<matplotlib.figure.Figure at 0x1a185e34a8>"
      ]
     },
     "metadata": {},
     "output_type": "display_data"
    }
   ],
   "source": [
    "plot_histogram(df_train, x_var='norm_nuc', class_var='class')"
   ]
  },
  {
   "cell_type": "code",
   "execution_count": 19,
   "metadata": {},
   "outputs": [
    {
     "data": {
      "image/png": "[encoded data removed]",
      "text/plain": [
       "<matplotlib.figure.Figure at 0x1a185f30b8>"
      ]
     },
     "metadata": {},
     "output_type": "display_data"
    }
   ],
   "source": [
    "plot_histogram(df_train, x_var='bland_chrom', class_var='class')"
   ]
  },
  {
   "cell_type": "code",
   "execution_count": 20,
   "metadata": {},
   "outputs": [
    {
     "data": {
      "image/png": "[encoded data removed]",
      "text/plain": [
       "<matplotlib.figure.Figure at 0x1a18602550>"
      ]
     },
     "metadata": {},
     "output_type": "display_data"
    }
   ],
   "source": [
    "plot_histogram(df_train, x_var='uni_size', class_var='class')"
   ]
  },
  {
   "cell_type": "code",
   "execution_count": 21,
   "metadata": {},
   "outputs": [
    {
     "data": {
      "image/png": "[encoded data removed]",
      "text/plain": [
       "<matplotlib.figure.Figure at 0x1a1884d588>"
      ]
     },
     "metadata": {},
     "output_type": "display_data"
    }
   ],
   "source": [
    "plot_histogram(df_train, x_var='mitoses', class_var='class')"
   ]
  },
  {
   "cell_type": "code",
   "execution_count": 22,
   "metadata": {},
   "outputs": [
    {
     "data": {
      "image/png": "[encoded data removed]",
      "text/plain": [
       "<matplotlib.figure.Figure at 0x1a1893de10>"
      ]
     },
     "metadata": {},
     "output_type": "display_data"
    }
   ],
   "source": [
    "plot_histogram(df_train, x_var='thickness', class_var='class')"
   ]
  },
  {
   "cell_type": "markdown",
   "metadata": {},
   "source": [
    "#### Summary of visualizations: \n",
    "It's fairly apparent already that these features are doing a good job of predicting cancer vs. non-cancer cells.  \n",
    "**Feature Engineering:** I would typically consider feature engineering at this point. However, I think for now, I will see how the model performs without engineered features, and then add engineered features later if need be.  "
   ]
  },
  {
   "cell_type": "markdown",
   "metadata": {},
   "source": [
    "# Modeling\n",
    "\n",
    "## Modeling Approach and Considerations\n",
    "* **Small Number of Observations:** Because there are a small number of data points (*N* = 699), **overfitting** is a concern. For this reason, I will start with a **logistic regression** model.  \n",
    "* **High Multicollinearity:** Note that the feature importances (or Beta-weights) will be less interpretable because of the high level of multicollinearity.   \n",
    "\n",
    "## Model Preparation\n",
    "- First split up the training set into training and validation sets"
   ]
  },
  {
   "cell_type": "code",
   "execution_count": 56,
   "metadata": {},
   "outputs": [
    {
     "name": "stdout",
     "output_type": "stream",
     "text": [
      "(559, 11) (140, 9) (447, 9) (112, 9) (447,) (112,)\n"
     ]
    }
   ],
   "source": [
    "### Split Training set into Training and Validation sets\n",
    "\n",
    "### Train/Validate:\n",
    "y_train_valid = df_train['class']\n",
    "X_train_valid = df_train.drop(['class', 'id'], axis=1)\n",
    "\n",
    "### Test datasets:\n",
    "y_test = df_test['class']\n",
    "X_test = df_test.drop(['class', 'id'], axis=1)\n",
    "\n",
    "### Make validation and training datasets: \n",
    "train_X , valid_X , train_y , valid_y = train_test_split(X_train_valid, \n",
    "                                                         y_train_valid, \n",
    "                                                         test_size = .2, \n",
    "                                                        random_state=88)\n",
    "print(df_train.shape, X_test.shape, train_X.shape, \n",
    "      valid_X.shape, train_y.shape, valid_y.shape)\n"
   ]
  },
  {
   "cell_type": "code",
   "execution_count": 57,
   "metadata": {},
   "outputs": [],
   "source": [
    "from sklearn.linear_model import LogisticRegression"
   ]
  },
  {
   "cell_type": "code",
   "execution_count": 58,
   "metadata": {},
   "outputs": [
    {
     "name": "stdout",
     "output_type": "stream",
     "text": [
      "Training set score: 0.96421\n",
      "Validation set score: 0.96429\n"
     ]
    }
   ],
   "source": [
    "# Fit training data\n",
    "model_logreg = LogisticRegression().fit(train_X, train_y)\n",
    "\n",
    "# Compare accuracy of model on training and validation data sets:\n",
    "print('Training set score: {:.5f}'.format(model_logreg.score(train_X, train_y)))\n",
    "print('Validation set score: {:.5f}'.format(model_logreg.score(valid_X, valid_y)))"
   ]
  },
  {
   "cell_type": "markdown",
   "metadata": {},
   "source": [
    "Because the accuracy scores of the model on training and validation sets are so close, I am concerned that the model is **underfitted** to the data. I will try to allow a more flexible model to see if that increases accuracy. "
   ]
  },
  {
   "cell_type": "code",
   "execution_count": 52,
   "metadata": {},
   "outputs": [
    {
     "name": "stdout",
     "output_type": "stream",
     "text": [
      "Training set score: 0.96644\n",
      "Validation set score: 0.96429\n"
     ]
    }
   ],
   "source": [
    "# Fit training data and alter regularization parameters of model so that it is more flexible: \n",
    "model_logreg_c10 = LogisticRegression(C = 10).fit(train_X, train_y)\n",
    "print('Training set score: {:.5f}'.format(model_logreg_c10.score(train_X, train_y)))\n",
    "print('Validation set score: {:.5f}'.format(model_logreg_c10.score(valid_X, valid_y)))"
   ]
  },
  {
   "cell_type": "code",
   "execution_count": null,
   "metadata": {},
   "outputs": [],
   "source": []
  },
  {
   "cell_type": "code",
   "execution_count": null,
   "metadata": {},
   "outputs": [],
   "source": [
    "### Super cool functions: \n",
    "\n",
    "def plot_model_var_imp( model , X , y ):\n",
    "    imp = pd.DataFrame( \n",
    "        model.feature_importances_  , \n",
    "        columns = [ 'Importance' ] , \n",
    "        index = X.columns \n",
    "    )\n",
    "    imp = imp.sort_values( [ 'Importance' ] , ascending = True )\n",
    "    imp[ : 10 ].plot( kind = 'barh' )\n",
    "    print (model.score( X , y ))\n"
   ]
  }
 ],
 "metadata": {
  "kernelspec": {
   "display_name": "Python 3",
   "language": "python",
   "name": "python3"
  },
  "language_info": {
   "codemirror_mode": {
    "name": "ipython",
    "version": 3
   },
   "file_extension": ".py",
   "mimetype": "text/x-python",
   "name": "python",
   "nbconvert_exporter": "python",
   "pygments_lexer": "ipython3",
   "version": "3.6.4"
  }
 },
 "nbformat": 4,
 "nbformat_minor": 2
}
